{
 "cells": [
  {
   "cell_type": "markdown",
   "metadata": {},
   "source": [
    "1. FIR 필터 (Finite Impulse Response)\n",
    "===\n",
    "개요\n",
    "---\n",
    "필터란 신호를 거르기 위해 사용한다. 그 중에서 FIR 필터는 응답이 유한하다는 가정 하에 정의된다.\n",
    "\n",
    "> * 즉, (finite length, 0 ≤ k ≤ N-1)\n",
    "\n",
    "필터의 설계 방식에서 feedback 기능을 사용하지 않는다. 따라서 유한하다고 해서 수행 시간이 짧지 않으며 오히려 반대로 구현이 복잡도가 IIR과 비교하여 더 크다. 디지털 신호처리에서는 입력 신호 열 중에서 유한 샘플(N개)에 일정한 계수를 곱하여 더한 합을 말한다. 이것은 곧 Convolution 합의 결과로 곱셉기, 덧셈기, 기억소자(지연기)로 구성된다는 뜻이다.\n",
    "\n",
    "구현 구조\n",
    "---\n",
    "1) 전달함수\n",
    "- 종속형, 위상변수형, 선형위상형, 주파수샘플링형 등으로 구현\n",
    "\n",
    "2) 차분방정식\n",
    "- 주어진 차분방정식 형태 그대로 구현\n",
    "\n",
    "3) 임펄스응답 표현\n",
    "- 고속 컨볼루션 계산으로 구현"
   ]
  },
  {
   "cell_type": "code",
   "execution_count": null,
   "metadata": {
    "collapsed": true
   },
   "outputs": [],
   "source": [
    "% Matlab FIR example : Type-1 linear-phase FIR filter: Symmetrical \n",
    "% impulse response, M odd\n",
    "\n",
    "function [Hr,w,c,L] = Hr_Type3(h);\n",
    "% Computes Amplitude response Hr(w) of a Type-3 LP FIR filter \n",
    "% Hr = Amplitude Response\n",
    "% w = frequencies between [0 pi] over which Hr is computed\n",
    "% c = Type-3 LP filter coefficients\n",
    "% L=OrderofHr\n",
    "% h = Type-3 LP impulse response\n",
    "%\n",
    " M = length(h);  L = (M-1)/2;\n",
    " c = [2*h(L+1:-1:1)];  n = [0:1:L];\n",
    " w = [0:1:500]’*pi/500;  Hr = sin(w*n)*c’;"
   ]
  },
  {
   "cell_type": "markdown",
   "metadata": {},
   "source": [
    "2. IIR 필터(Infinite Impulse Response)\n",
    "===\n",
    "개요\n",
    "---\n",
    "입력 신호 샘플에 무한한 길이의 계수를 곱하여 더한 합으로 표현되는 필터이다.응답이 무한한 길이를 가진다. \n",
    "\n",
    "> 즉, h[k]가 무한한 길이(infinite length, -∞ < k < ∞)를 갖는다.\n",
    "\n",
    "길이가 무한하기 때문에 컨벌루션 합으로 구현이 불가능하다. 무한 개의 곱셉기, 덧셈기, 기억소자(지연기)를 만들 수가 없기 때문이다. 하지만 FIR과 다르게 피드백 설계가 가능하여 소자가 많이 요구되는 상황에 적합하다. 즉, 구현 복잡도가 FIR보다 낮아 많은 효과를 누릴 수 있다. 피드백이므로 현재의 출력을 계산하는데, 입력 뿐만 아니라 이미 출력된 신호가 다시 이용된다. 누적필터도 여기에 해당한다.\n",
    "\n",
    "\n",
    "구현 구조\n",
    "---\n",
    "\n",
    "1) 직접형 (Direct form)\n",
    "- 주어진 차분방정식 형태 그대로 구현\n",
    "\n",
    "2) 종속형 (Cascade form)\n",
    "- 전달함수를 인수분해하여 여러 인수들의 곱 종속으로 구현\n",
    "\n",
    "3) 병렬형 (Parallel form)\n",
    "- 전달함수를 인수분해하고 부분분수전개하여 병렬로 구현"
   ]
  },
  {
   "cell_type": "code",
   "execution_count": null,
   "metadata": {
    "collapsed": true
   },
   "outputs": [],
   "source": [
    "% Matlab IIR example : U buttap(N,Omegac), the unnormalized \n",
    "% Butterworth analog prototype filter\n",
    "\n",
    "function [b,a] = u_buttap(N,Omegac);\n",
    "% Unnormalized Butterworth Analog Lowpass Filter Prototype\n",
    "% --------------------------------------------------------\n",
    "% [b,a] = u_buttap(N,Omegac);\n",
    "%      b = numerator polynomial coefficients of Ha(s)\n",
    "%      a = denominator polynomial coefficients of Ha(s)\n",
    "%      N = Order of the Butterworth Filter\n",
    "% Omegac = Cutoff frequency in radians/sec\n",
    "%\n",
    "[z,p,k] = buttap(N);\n",
    "      p = p*Omegac;\n",
    "      k = k*Omegac^N;\n",
    "      B = real(poly(z));\n",
    "      b0 = k;  b = k*B;  a = real(poly(p));"
   ]
  },
  {
   "cell_type": "markdown",
   "metadata": {},
   "source": [
    "Referene\n",
    "---\n",
    "IIR : http://www.ktword.co.kr/abbr_view.php?m_temp1=4220  \n",
    "FIR : http://www.ktword.co.kr/abbr_view.php?nav=2&m_temp1=3758&id=906"
   ]
  }
 ],
 "metadata": {
  "kernelspec": {
   "display_name": "Python 3",
   "language": "python",
   "name": "python3"
  },
  "language_info": {
   "codemirror_mode": {
    "name": "ipython",
    "version": 3
   },
   "file_extension": ".py",
   "mimetype": "text/x-python",
   "name": "python",
   "nbconvert_exporter": "python",
   "pygments_lexer": "ipython3",
   "version": "3.5.1"
  }
 },
 "nbformat": 4,
 "nbformat_minor": 0
}
