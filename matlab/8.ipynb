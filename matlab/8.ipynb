{
 "cells": [
  {
   "cell_type": "markdown",
   "metadata": {},
   "source": [
    "펄스 부호 변조\n",
    "===\n",
    "\n",
    "펄스 부호 변조(Pulse-code modulation, 줄여서 PCM)는 아날로그 신호의 디지털 표현으로, 신호 등급을 균일한 주기로 표본화한 다음 디지털 (이진) 코드로 양자화 처리된다(위키 백과). 즉, '아날로그 --> 샘플링(이산 신호화) -> 양자화(정수화) --> 부호화(디지털화)'의 세 과정을 뜻하는 용어이다.\n",
    "\n",
    "과정\n",
    "---\n",
    "1) 샘플링\n",
    "- 나이키스트 이론에 맞춰 표본화\n",
    "\n",
    "\n",
    "- T <= $\\frac{1}{f_s}$\n",
    "\n",
    "\n",
    "2) 양자화\n",
    "- 샘플링 신호를 정수 값으로 변경\n",
    "\n",
    "\n",
    "3) 부호화\n",
    "- 양자화된 신호를 2진수로 변경\n",
    "\n",
    "\n",
    "\\* 송신 측에서는 1 ~ 3 순으로 인코딩 수신 측에서는 3 ~ 1 순으로 디코딩을 수행한다.\n",
    "\n",
    "장점\n",
    "---\n",
    "- 정량화 시켜 디지털로 제어할 수 있다.\n",
    "\n",
    "- 신호와 잡음비인 SNR이 뛰어나다."
   ]
  }
 ],
 "metadata": {
  "kernelspec": {
   "display_name": "Python 3",
   "language": "python",
   "name": "python3"
  },
  "language_info": {
   "codemirror_mode": {
    "name": "ipython",
    "version": 3
   },
   "file_extension": ".py",
   "mimetype": "text/x-python",
   "name": "python",
   "nbconvert_exporter": "python",
   "pygments_lexer": "ipython3",
   "version": "3.5.1"
  }
 },
 "nbformat": 4,
 "nbformat_minor": 0
}
