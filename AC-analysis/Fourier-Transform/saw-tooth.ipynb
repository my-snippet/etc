{
 "cells": [
  {
   "cell_type": "markdown",
   "metadata": {},
   "source": [
    "# 문제(practice 18.2)\n",
    "### 아래와 같은 형태의 주기함수 f(t)가 있다. 이것의 주기를 무한대로 늘린 다음, 푸리에 변환을 적용하라."
   ]
  },
  {
   "cell_type": "code",
   "execution_count": 4,
   "metadata": {
    "collapsed": false
   },
   "outputs": [
    {
     "data": {
      "text/plain": [
       "[<matplotlib.lines.Line2D at 0x10b5fe438>]"
      ]
     },
     "execution_count": 4,
     "metadata": {},
     "output_type": "execute_result"
    },
    {
     "data": {
      "image/png": "[encoded data removed]",
      "text/plain": [
       "<matplotlib.figure.Figure at 0x10b54e588>"
      ]
     },
     "metadata": {},
     "output_type": "display_data"
    }
   ],
   "source": [
    "t = np.linspace(0, 5, 500000)\n",
    "y = signal.sawtooth(2 * np.pi * t)\n",
    "plt.plot(t, y)"
   ]
  },
  {
   "cell_type": "markdown",
   "metadata": {},
   "source": [
    "###  주기를 무한대로 늘리면 아래처럼 하나의 톱니파만 존재하는 것처럼 보인다. $[0,1]$ 구간"
   ]
  },
  {
   "cell_type": "code",
   "execution_count": 5,
   "metadata": {
    "collapsed": false
   },
   "outputs": [
    {
     "data": {
      "text/plain": [
       "[<matplotlib.lines.Line2D at 0x10f680358>]"
      ]
     },
     "execution_count": 5,
     "metadata": {},
     "output_type": "execute_result"
    },
    {
     "data": {
      "image/png": "[encoded data removed]",
      "text/plain": [
       "<matplotlib.figure.Figure at 0x10b583a58>"
      ]
     },
     "metadata": {},
     "output_type": "display_data"
    }
   ],
   "source": [
    "t = np.linspace(0, 1, 500000)\n",
    "y = signal.sawtooth(2 * np.pi * t)\n",
    "plt.plot(t, y)"
   ]
  },
  {
   "cell_type": "markdown",
   "metadata": {},
   "source": [
    "# 1. 푸리에 변환 (정의로 풀기)\n",
    "\n",
    "## 정의 : $F(w) = \\int_{-\\infty}^\\infty{f(t)e^{-jwt}}dt$\n",
    "\n",
    "## $f(t) = t[u(t)-u(t-1)]$이므로\n",
    "\n",
    "## $F(w) = \\int_0^1{tu(t)e^{-jwt}}dt$\n",
    "\n",
    "## $\\ \\ \\ \\ \\ \\ \\ = \\int_0^1{te^{-jwt}}dt$\n",
    "\n",
    "## 부분적분을 이용하여 $F(w)$를  구하면,\n",
    "\n",
    "## $\\int_0^1{te^{-jwt}}dt = -\\frac{1}{jw}te^{-jwt}|_0^1 - (-\\frac{1}{jw}\\int_0^1{e^{-jwt}}dt)$\n",
    "\n",
    "## $\\ \\ \\ \\ \\ \\ \\ \\ \\ \\ \\ \\ \\ \\ \\ \\ \\ = \\frac{(1 + jw)e^{jw} - 1}{w^2}$"
   ]
  },
  {
   "cell_type": "markdown",
   "metadata": {},
   "source": [
    "# 2. 미분 공식으로 풀기\n",
    "\n",
    "## 공식 : $\\mathscr{F}[f^{(n)}(t)] = (jw)^nF(w)$\n",
    "\n",
    "## $f(t) = t[u(t)-u(t-1)] = tu(t) -(t-1)u(t-1) + u(t-1) 이므로,$\n",
    "\n",
    "## $f'(t) = u(t) - u(t-1) + \\delta(t-1),$\n",
    "\n",
    "## $f''(t)= \\delta(t) - \\delta(t-1) + \\delta'(t-1)$\n",
    "\n",
    "## 이 결과를 공식에 대입하면, \n",
    "\n",
    "## $\\mathscr{F}[f^{(2)}(t)] = (jw)^2F(w) = (jw)^2[1 - e^{-jw} -jwe^{-jw}] $\n",
    "\n",
    "## 정리하면,\n",
    "\n",
    "## $F(w) = \\frac{[1 + e^{-jw} -jwe^{-jw}]}{(jw)^2} = \\frac{(1 + jw)e^{jw} - 1}{w^2}$"
   ]
  },
  {
   "cell_type": "markdown",
   "metadata": {},
   "source": [
    "# 4. 고찰\n",
    "\n",
    "### 톱니파saw tooh로 알려진 주기함수 f(t)는 주기를 무한대로 늘림으로써 푸리에 변환을 적용할 수 있다.\n",
    "\n",
    "### 이 경우,\n",
    "\n",
    "## $F(w) = \\frac{(1 + jw)e^{jw} - 1}{w^2}$의 값이 나왔다.\n",
    "\n",
    "### 주기와 주파수의 반비례 관계에 따라, 주기가 길어질 경우 주파수는 점점 작아질 것이고 0Hz에 밀집될 것이다."
   ]
  },
  {
   "cell_type": "code",
   "execution_count": 1,
   "metadata": {
    "collapsed": false
   },
   "outputs": [
    {
     "name": "stdout",
     "output_type": "stream",
     "text": [
      "Populating the interactive namespace from numpy and matplotlib\n"
     ]
    }
   ],
   "source": [
    "%pylab inline"
   ]
  },
  {
   "cell_type": "code",
   "execution_count": 2,
   "metadata": {
    "collapsed": true
   },
   "outputs": [],
   "source": [
    "import matplotlib.pyplot as plt\n",
    "import plotly.plotly as py\n",
    "import numpy as np\n",
    "\n",
    "\n",
    "\"\"\"\n",
    "Functions for FFT\n",
    "Many part of implementation is derived from plotly\n",
    "https://plot.ly/\n",
    "\"\"\"\n",
    "\n",
    "\n",
    "def fft_configuration(period_function, T=1):\n",
    "    n = len(period_function) # length of the signal\n",
    "\n",
    "    Y = np.fft.fft(y)/n # fft computing and normalization\n",
    "    Y = Y[range(int(n/2))]\n",
    "\n",
    "    k = np.arange(n)\n",
    "    frq = k/T # two sides frequency range\n",
    "    frq = frq[range(int(n/2))] # one side frequency range\n",
    "    return (Y, frq)\n",
    "\n",
    "\n",
    "def make_plot_amp_and_freq(time_vector, period_function):\n",
    "    Y, frq = fft_configuration(period_function)\n",
    "    \n",
    "    fig, ax = plt.subplots(2, 1, figsize=(15,15))\n",
    "    \n",
    "    ax[0].plot(time_vector, y)\n",
    "    ax[0].set_xlabel('Time')\n",
    "    ax[0].set_ylabel('Amplitude')\n",
    "\n",
    "    ax[1].plot(frq,abs(Y),'r') # plotting the spectrum\n",
    "    ax[1].set_xlabel('Freq (Hz)')\n",
    "    ax[1].set_ylabel('Amplitude')\n",
    "    \n",
    "\n",
    "\n",
    "def time_vector_configuration(one_side_width=1):\n",
    "    Fs = 150.0;  # sampling rate\n",
    "    Ts = 1.0/Fs; # sampling interval\n",
    "    t = np.arange(\n",
    "        negative(one_side_width),\n",
    "        one_side_width,\n",
    "        Ts) # time vector\n",
    "    \n",
    "    return t"
   ]
  },
  {
   "cell_type": "code",
   "execution_count": 3,
   "metadata": {
    "collapsed": true
   },
   "outputs": [],
   "source": [
    "from scipy import signal"
   ]
  }
 ],
 "metadata": {
  "kernelspec": {
   "display_name": "Python 3",
   "language": "python",
   "name": "python3"
  },
  "language_info": {
   "codemirror_mode": {
    "name": "ipython",
    "version": 3
   },
   "file_extension": ".py",
   "mimetype": "text/x-python",
   "name": "python",
   "nbconvert_exporter": "python",
   "pygments_lexer": "ipython3",
   "version": "3.4.3"
  }
 },
 "nbformat": 4,
 "nbformat_minor": 0
}
